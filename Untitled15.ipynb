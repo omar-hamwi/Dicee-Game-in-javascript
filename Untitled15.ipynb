{
  "nbformat": 4,
  "nbformat_minor": 0,
  "metadata": {
    "colab": {
      "provenance": [],
      "authorship_tag": "ABX9TyMcaKvKUrReVCpNiCt/caid",
      "include_colab_link": true
    },
    "kernelspec": {
      "name": "python3",
      "display_name": "Python 3"
    },
    "language_info": {
      "name": "python"
    }
  },
  "cells": [
    {
      "cell_type": "markdown",
      "metadata": {
        "id": "view-in-github",
        "colab_type": "text"
      },
      "source": [
        "<a href=\"https://colab.research.google.com/github/omar-hamwi/Dicee-Game-in-javascript/blob/main/Untitled15.ipynb\" target=\"_parent\"><img src=\"https://colab.research.google.com/assets/colab-badge.svg\" alt=\"Open In Colab\"/></a>"
      ]
    },
    {
      "cell_type": "code",
      "execution_count": null,
      "metadata": {
        "id": "FrrQyFaWnFkZ"
      },
      "outputs": [],
      "source": [
        "import numpy as np\n",
        "#this is for color\n",
        "class bcolors:\n",
        "    FAIL = '\\033[91m'\n",
        "    ENDC = '\\033[0m'\n",
        "    BOLD = '\\033[1m'\n",
        "    UNDERLINE = '\\033[4m'\n",
        "#enter the value \n",
        "c=float(input(\"\\n Enter learning constant C: \"))\n",
        "n=int(input(\" Enter number of dataset: \"))\n",
        "xlist=list()\n",
        "wlist=list()\n",
        "wlist.append(np.array(list(map(float, input(\" Enter values for W1: \").split()))))   #The split() method splits a string into a list. \n",
        "\n",
        "wlist[0]=wlist[0].reshape(len(wlist[0]),1)\n",
        "\n",
        "for i in range(n):\n",
        "    xlist.append(np.array(list(map(float, input(f\" Enter values for X{i+1}: \").split()))))\n",
        "    xlist[i]=xlist[i].reshape(len(xlist[i]),1)\n",
        "print(\"\\n\")\n",
        "print(f\"{bcolors.FAIL}{bcolors.UNDERLINE}Solution:\\n{bcolors.ENDC}\")\n",
        "\n",
        "for i in range(0,len(xlist)):\n",
        "    wt=wlist[i].transpose()\n",
        "\n",
        "    net=np.dot(wt,xlist[i])\n",
        "    if(net>0):\n",
        "        op=1\n",
        "    elif(net<0):\n",
        "            op=-1\n",
        "    else:\n",
        "        op=0\n",
        "\n",
        "    r=c*op\n",
        "    temp=np.dot(r,xlist[i])\n",
        "    wlist.append(np.add(wlist[i],temp))\n",
        "    print(f\"{bcolors.FAIL}{bcolors.BOLD}W\"+str(i+2), f\"is{bcolors.ENDC}\")\n",
        "    print(wlist[i+1])\n",
        "    print(\"\\n\")"
      ]
    }
  ]
}